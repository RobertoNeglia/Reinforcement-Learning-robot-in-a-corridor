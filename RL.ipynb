{
 "cells": [
  {
   "cell_type": "markdown",
   "metadata": {},
   "source": [
    "# Imports"
   ]
  },
  {
   "cell_type": "code",
   "execution_count": 1,
   "metadata": {},
   "outputs": [],
   "source": [
    "import numpy as np\n",
    "from enum import Enum\n",
    "import matplotlib.pyplot as plt\n",
    "from IPython.display import clear_output\n",
    "import time"
   ]
  },
  {
   "cell_type": "markdown",
   "metadata": {},
   "source": [
    "# Constant utils"
   ]
  },
  {
   "cell_type": "code",
   "execution_count": 2,
   "metadata": {},
   "outputs": [],
   "source": [
    "\"\"\"\n",
    "Directions that the robot can face.\n",
    "\"\"\"\n",
    "ORIENTATION = Enum(\"ORIENTATION\", \"UP LEFT DOWN RIGHT\", start=0)\n",
    "\"\"\"\n",
    "Steps length in each direction.\n",
    "\"\"\"\n",
    "TAKE_A_STEP = {\n",
    "    ORIENTATION.UP: np.array([-1, 0]),\n",
    "    ORIENTATION.DOWN: np.array([1, 0]),\n",
    "    ORIENTATION.RIGHT: np.array([0, 1]),\n",
    "    ORIENTATION.LEFT: np.array([0, -1]),\n",
    "}\n",
    "\"\"\"\n",
    "Actions that the robot can take.\n",
    "\"\"\"\n",
    "ACTIONS = Enum(\"ACTIONS\", \"FORWARD BACKWARD TURN_LEFT TURN_RIGHT\")\n",
    "\"\"\"\n",
    "Forward and backward actions steps.\n",
    "\"\"\"\n",
    "MOVE = {\"FORWARD\": 1, \"BACKWARD\": -1}\n",
    "\"\"\"\n",
    "Symbol of the robot in the corridor.\n",
    "\"\"\"\n",
    "ROBOT_SYMBOL = \"X\"\n",
    "\"\"\"\n",
    "Symbol of the goal of the robot in the corridor.\n",
    "\"\"\"\n",
    "GOAL_SYMBOL = \"G\"\n",
    "\"\"\"\n",
    "Symbol of the wall in the corridor.\n",
    "\"\"\"\n",
    "WALL_SYMBOL = \"#\"\n",
    "\"\"\"\n",
    "Symbol of the empty space in the corridor.\n",
    "\"\"\"\n",
    "EMPTY_SYMBOL = \" \"\n",
    "\n",
    "\"\"\"\n",
    "Dictionary that maps symbols to values.\n",
    "\"\"\"\n",
    "SYMBOLS_TO_VALUES = {\n",
    "    EMPTY_SYMBOL: 0,\n",
    "    WALL_SYMBOL: -1,\n",
    "    GOAL_SYMBOL: 1,\n",
    "    ROBOT_SYMBOL: 2,\n",
    "}\n",
    "\n",
    "\n",
    "def get_value_from_symbol(symbol):\n",
    "    \"\"\"\n",
    "    Util function that maps a symbol to a value.\n",
    "    :param symbol: symbol to map\n",
    "    :return: value mapped\n",
    "    \"\"\"\n",
    "    return SYMBOLS_TO_VALUES[symbol]"
   ]
  },
  {
   "cell_type": "markdown",
   "metadata": {},
   "source": [
    "# Environment class"
   ]
  },
  {
   "cell_type": "code",
   "execution_count": 3,
   "metadata": {},
   "outputs": [],
   "source": [
    "class Corridor(object):\n",
    "    \"\"\"\n",
    "    Class that represents the corridor environment.\n",
    "    \"\"\"\n",
    "\n",
    "    def __init__(self, length=10, width=5):\n",
    "        \"\"\"\n",
    "        Constructor of the class.\n",
    "        :param length: length of the corridor\n",
    "        :param width: width of the corridor\n",
    "        \"\"\"\n",
    "        self.length = length + 3\n",
    "        self.width = width + 2\n",
    "        # initialize the corridor\n",
    "        self.corridor = np.empty((self.width, self.length), dtype=str)\n",
    "        self.corridor[:] = EMPTY_SYMBOL\n",
    "        # initial state of the agent: a state is defined by (y, x, orientation)\n",
    "        self.agent_pos = (3, 1)\n",
    "        self.agent_orientation = ORIENTATION.RIGHT\n",
    "        self.corridor[self.agent_pos[0], self.agent_pos[1]] = ROBOT_SYMBOL\n",
    "        # define walls\n",
    "        self.corridor[:, 0] = WALL_SYMBOL\n",
    "        self.corridor[0, :] = WALL_SYMBOL\n",
    "        self.corridor[self.width - 1, :] = WALL_SYMBOL\n",
    "        # define the goal\n",
    "        self.corridor[1 : self.width - 1, self.length - 1] = GOAL_SYMBOL\n",
    "        # data structure that contains the allowed actions for each state\n",
    "        self.allowed_actions = {}\n",
    "        self.init_allowed_actions()\n",
    "\n",
    "    def is_allowed_action(self, state, action):\n",
    "        \"\"\"\n",
    "        Check if an action is allowed in a given state.\n",
    "        :param state: state to check\n",
    "        :param action: action to check\n",
    "        :return: True if the action is allowed, False otherwise\n",
    "        \"\"\"\n",
    "        if action == ACTIONS.TURN_LEFT or action == ACTIONS.TURN_RIGHT:\n",
    "            return True\n",
    "\n",
    "        y, x, orientation = state\n",
    "        y += TAKE_A_STEP[orientation][0] * MOVE[action.name]\n",
    "        x += TAKE_A_STEP[orientation][1] * MOVE[action.name]\n",
    "\n",
    "        if y < 0 or y > (self.width - 1) or x < 0 or x > (self.length - 1):\n",
    "            return False\n",
    "\n",
    "        if self.corridor[y, x] == WALL_SYMBOL:\n",
    "            return False\n",
    "        else:\n",
    "            return True\n",
    "\n",
    "    def init_allowed_actions(self):\n",
    "        \"\"\"\n",
    "        Initialize the data structure that contains the allowed actions for each state.\n",
    "        \"\"\"\n",
    "        allowed_actions = {}\n",
    "        for y, row in enumerate(self.corridor):\n",
    "            for x, cell in enumerate(row):\n",
    "                if cell != WALL_SYMBOL:\n",
    "                    for orientation in ORIENTATION:\n",
    "                        allowed_actions[(y, x, orientation)] = []\n",
    "                        for action in ACTIONS:\n",
    "                            if self.is_allowed_action(((y, x, orientation)), action):\n",
    "                                allowed_actions[(y, x, orientation)].append(action)\n",
    "\n",
    "        self.allowed_actions = allowed_actions\n",
    "\n",
    "    def update(self, action):\n",
    "        \"\"\"\n",
    "        Update the environment given an action.\n",
    "        :param action: action to take\n",
    "        \"\"\"\n",
    "        if action in self.allowed_actions[self.get_state()]:\n",
    "            if action == ACTIONS.TURN_LEFT:\n",
    "                self.agent_orientation = ORIENTATION(\n",
    "                    ((self.agent_orientation.value + 1) % 4)\n",
    "                )\n",
    "            elif action == ACTIONS.TURN_RIGHT:\n",
    "                self.agent_orientation = ORIENTATION(\n",
    "                    ((self.agent_orientation.value - 1) % 4)\n",
    "                )\n",
    "            else:\n",
    "                if self.agent_pos[1] == self.length - 1:\n",
    "                    replace = GOAL_SYMBOL\n",
    "                else:\n",
    "                    replace = EMPTY_SYMBOL\n",
    "                self.corridor[self.agent_pos[0], self.agent_pos[1]] = replace\n",
    "                self.agent_pos += (\n",
    "                    TAKE_A_STEP[self.agent_orientation] * MOVE[action.name]\n",
    "                )\n",
    "                self.corridor[self.agent_pos[0], self.agent_pos[1]] = ROBOT_SYMBOL\n",
    "\n",
    "    def give_reward(self):\n",
    "        \"\"\"\n",
    "        Give the reward to the agent.\n",
    "        :return: reward\n",
    "        \"\"\"\n",
    "        if self.agent_pos[1] == self.length - 1:\n",
    "            return 100\n",
    "        else:\n",
    "            # return (self.agent_pos[1] - self.length) / self.length\n",
    "            return -1\n",
    "\n",
    "    def is_terminal(self):\n",
    "        \"\"\"\n",
    "        Check if the agent is in a terminal state.\n",
    "        :return: True if the agent is in a terminal state, False otherwise\n",
    "        \"\"\"\n",
    "        return self.agent_pos[1] == self.length - 1\n",
    "\n",
    "    def plot_corridor(self):\n",
    "        \"\"\"\n",
    "        Plot the corridor using matplotlib.\n",
    "        \"\"\"\n",
    "        plt.figure(figsize=(30, 30))\n",
    "        res = np.vectorize(SYMBOLS_TO_VALUES.get)(self.corridor)\n",
    "        plt.imshow(res, cmap=plt.cm.gray, interpolation=\"nearest\")\n",
    "        plt.xticks([])\n",
    "        plt.yticks([])\n",
    "\n",
    "    def get_state(self):\n",
    "        \"\"\"\n",
    "        Get the current state of the agent.\n",
    "        The current state is defined as a tuple containing (y, x, orientation).\n",
    "        :return: current state of the agent\n",
    "        \"\"\"\n",
    "        return (self.agent_pos[0], self.agent_pos[1], self.agent_orientation)\n",
    "\n",
    "    def get_state_and_reward(self):\n",
    "        \"\"\"\n",
    "        Get the current state of the agent and the reward.\n",
    "        :return: a tuple containing the current state of the agent and the reward\n",
    "        \"\"\"\n",
    "        return (self.get_state(), self.give_reward())\n",
    "\n",
    "    def get_allowed_actions(self, state):\n",
    "        \"\"\"\n",
    "        Get the allowed actions for a given state.\n",
    "        :param state: state to check\n",
    "        :return: allowed actions for the given state\n",
    "        \"\"\"\n",
    "        return self.allowed_actions[state]\n",
    "\n",
    "    def reset_env(self):\n",
    "        \"\"\"\n",
    "        Resets the environment.\n",
    "        \"\"\"\n",
    "        self.corridor[:] = EMPTY_SYMBOL\n",
    "        # initial state of the agent: a state is defined by (y, x, orientation)\n",
    "        self.agent_pos = (3, 1)\n",
    "        self.agent_orientation = ORIENTATION.RIGHT\n",
    "        self.corridor[self.agent_pos[0], self.agent_pos[1]] = ROBOT_SYMBOL\n",
    "        # define walls\n",
    "        self.corridor[:, 0] = WALL_SYMBOL\n",
    "        self.corridor[0, :] = WALL_SYMBOL\n",
    "        self.corridor[self.width - 1, :] = WALL_SYMBOL\n",
    "        # define the goal\n",
    "        self.corridor[1 : self.width - 1, self.length - 1] = GOAL_SYMBOL"
   ]
  },
  {
   "cell_type": "code",
   "execution_count": 4,
   "metadata": {},
   "outputs": [],
   "source": [
    "class Agent(object):\n",
    "    \"\"\"\n",
    "    Class that represents the agent.\n",
    "    \"\"\"\n",
    "\n",
    "    def __init__(self, env, gamma=0.5, alpha=0.9, epsilon=0.5):\n",
    "        \"\"\"\n",
    "        Constructor of the class.\n",
    "        :param env: environment\n",
    "        :param gamma: discount factor\n",
    "        :param alpha: learning rate\n",
    "        :param epsilon: exploration rate\n",
    "        \"\"\"\n",
    "        # environment\n",
    "        self.env = env\n",
    "        # discount factor\n",
    "        self.gamma = gamma\n",
    "        # exploration rate -> 0: greedy, 1: random\n",
    "        self.epsilon = epsilon\n",
    "        # learning rate\n",
    "        self.alpha = alpha\n",
    "        # value function\n",
    "        self.V = {}\n",
    "        self.init_V()\n",
    "        # history\n",
    "        self.trajectory = []\n",
    "        self.total_reward = 0\n",
    "        self.steps = 0\n",
    "\n",
    "    def init_V(self):\n",
    "        \"\"\"\n",
    "        Initialize the value function.\n",
    "        \"\"\"\n",
    "        for y in range(1, self.env.corridor.shape[0] - 1):\n",
    "            for x in range(1, self.env.corridor.shape[1]):\n",
    "                for orientation in ORIENTATION:\n",
    "                    self.V[(y, x, orientation)] = np.random.uniform(0.01, 1)\n",
    "\n",
    "    def best_action(self, state, allowed_actions):\n",
    "        \"\"\"\n",
    "        Get the best action for a given state.\n",
    "        :param state: state to check\n",
    "        :param allowed_actions: allowed actions for the given state\n",
    "        :return: best action for the given state\n",
    "        \"\"\"\n",
    "        best_action = None\n",
    "        best_value = -np.inf\n",
    "        # compute the value of each action and return the best one\n",
    "        for action in allowed_actions:\n",
    "            y, x, orientation = state\n",
    "            if action == ACTIONS.TURN_LEFT:\n",
    "                orientation = ORIENTATION(((orientation.value + 1) % 4))\n",
    "            elif action == ACTIONS.TURN_RIGHT:\n",
    "                orientation = ORIENTATION(((orientation.value - 1) % 4))\n",
    "            else:\n",
    "                y += TAKE_A_STEP[orientation][0] * MOVE[action.name]\n",
    "                x += TAKE_A_STEP[orientation][1] * MOVE[action.name]\n",
    "            value = self.V[(y, x, orientation)]\n",
    "            if value > best_value:\n",
    "                best_value = value\n",
    "                best_action = action\n",
    "        return best_action\n",
    "\n",
    "    def update_trajectory(self, state, reward):\n",
    "        \"\"\"\n",
    "        Update the trajectory of the agent.\n",
    "        :param state: current state\n",
    "        :param reward: reward\n",
    "        \"\"\"\n",
    "        self.steps += 1\n",
    "        self.total_reward += reward\n",
    "        self.trajectory.append((state, reward))\n",
    "\n",
    "    def choose_action(self, state):\n",
    "        \"\"\"\n",
    "        Choose an action given the state, using the epsilon-greedy policy.\n",
    "        :param state: current state\n",
    "        :return: action chosen\n",
    "        \"\"\"\n",
    "        allowed_actions = self.env.get_allowed_actions(state)\n",
    "        # epsilon-greedy: 0: greedy, 1: random\n",
    "        if np.random.uniform(0, 1) < self.epsilon:\n",
    "            return np.random.choice(allowed_actions)\n",
    "        else:\n",
    "            return self.best_action(state, allowed_actions)\n",
    "\n",
    "    def monte_carlo_update(self):\n",
    "        \"\"\"\n",
    "        Update the value function using the Monte Carlo method.\n",
    "        \"\"\"\n",
    "        g = 0\n",
    "        for state, reward in reversed(self.trajectory):\n",
    "            g = self.gamma * g + reward\n",
    "            self.V[state] += self.alpha * (g - self.V[state])\n",
    "        # reset the history\n",
    "        self.trajectory = []\n",
    "        self.total_reward = 0\n",
    "        self.steps = 0\n",
    "        self.env.reset_env()\n",
    "        # as epochs go by, reduce the exploration rate -> more greedy\n",
    "        self.epsilon = self.epsilon * 0.99"
   ]
  },
  {
   "cell_type": "markdown",
   "metadata": {},
   "source": [
    "### Testing the environment"
   ]
  },
  {
   "cell_type": "code",
   "execution_count": 5,
   "metadata": {},
   "outputs": [
    {
     "name": "stdout",
     "output_type": "stream",
     "text": [
      "1 3 ORIENTATION.RIGHT\n",
      "[<ACTIONS.FORWARD: 1>, <ACTIONS.TURN_LEFT: 3>, <ACTIONS.TURN_RIGHT: 4>]\n"
     ]
    },
    {
     "data": {
      "image/png": "[encoded data removed]",
      "text/plain": [
       "<Figure size 3000x3000 with 1 Axes>"
      ]
     },
     "metadata": {},
     "output_type": "display_data"
    }
   ],
   "source": [
    "corridor = Corridor(length=100)\n",
    "state = corridor.get_state()\n",
    "print(state[1], state[0], state[2])\n",
    "print(corridor.get_allowed_actions(state))\n",
    "corridor.plot_corridor()"
   ]
  },
  {
   "cell_type": "markdown",
   "metadata": {},
   "source": [
    "#### Testing some actions"
   ]
  },
  {
   "cell_type": "code",
   "execution_count": 6,
   "metadata": {},
   "outputs": [
    {
     "name": "stdout",
     "output_type": "stream",
     "text": [
      "1 3 ORIENTATION.RIGHT\n",
      "[<ACTIONS.FORWARD: 1>, <ACTIONS.TURN_LEFT: 3>, <ACTIONS.TURN_RIGHT: 4>]\n"
     ]
    },
    {
     "data": {
      "image/png": "[encoded data removed]",
      "text/plain": [
       "<Figure size 3000x3000 with 1 Axes>"
      ]
     },
     "metadata": {},
     "output_type": "display_data"
    }
   ],
   "source": [
    "if ACTIONS.BACKWARD in corridor.get_allowed_actions(state):\n",
    "    corridor.update(ACTIONS.BACKWARD)\n",
    "state = corridor.get_state()\n",
    "print(state[1], state[0], state[2])\n",
    "print(corridor.get_allowed_actions(state))\n",
    "corridor.plot_corridor()"
   ]
  },
  {
   "cell_type": "markdown",
   "metadata": {},
   "source": [
    "# Training the robot"
   ]
  },
  {
   "cell_type": "code",
   "execution_count": 17,
   "metadata": {},
   "outputs": [
    {
     "data": {
      "image/png": "[encoded data removed]",
      "text/plain": [
       "<Figure size 3000x3000 with 1 Axes>"
      ]
     },
     "metadata": {},
     "output_type": "display_data"
    },
    {
     "name": "stdout",
     "output_type": "stream",
     "text": [
      "Episode: 900\n",
      "Last number of steps: 107\n",
      "Last total reward: -6\n",
      "Epsilon: 1.179438058956442e-05\n"
     ]
    }
   ],
   "source": [
    "corridor = Corridor(length=100)\n",
    "robot = Agent(corridor, epsilon=0.1)\n",
    "\n",
    "steps_history = []\n",
    "reward_history = []\n",
    "\n",
    "n_epochs = 1000\n",
    "max_steps = 500\n",
    "for i in range(n_epochs):\n",
    "    # run an episode\n",
    "    while not corridor.is_terminal():\n",
    "        # get the current state\n",
    "        state = corridor.get_state()\n",
    "        # choose an action based on the current state\n",
    "        action = robot.choose_action(state)\n",
    "        # apply the action of the agent on the environment\n",
    "        corridor.update(action)\n",
    "        # get the new state and the reward of that action\n",
    "        state, reward = corridor.get_state_and_reward()\n",
    "        # keep track of the trajectory of the agent\n",
    "        robot.update_trajectory(state, reward)\n",
    "        # stop the episode if the agent is stuck\n",
    "        if robot.steps > max_steps:\n",
    "            break\n",
    "\n",
    "    reward_history.append(robot.total_reward)\n",
    "    steps_history.append(robot.steps)\n",
    "\n",
    "    if i % (n_epochs // 10) == 0:\n",
    "        time.sleep(0.3)\n",
    "        clear_output(wait=True)\n",
    "        corridor.plot_corridor()\n",
    "        plt.show()\n",
    "        print(\n",
    "            f\"Episode: {i}\\nLast number of steps: {steps_history[-1]}\\nLast total reward: {reward_history[-1]}\\nEpsilon: {robot.epsilon}\"\n",
    "        )\n",
    "\n",
    "    # episode is finished, update the V function\n",
    "    robot.monte_carlo_update()"
   ]
  },
  {
   "cell_type": "markdown",
   "metadata": {},
   "source": [
    "## Plotting the results of the training"
   ]
  },
  {
   "cell_type": "code",
   "execution_count": 18,
   "metadata": {},
   "outputs": [
    {
     "data": {
      "image/png": "[encoded data removed]",
      "text/plain": [
       "<Figure size 640x480 with 1 Axes>"
      ]
     },
     "metadata": {},
     "output_type": "display_data"
    },
    {
     "data": {
      "image/png": "[encoded data removed]",
      "text/plain": [
       "<Figure size 640x480 with 1 Axes>"
      ]
     },
     "metadata": {},
     "output_type": "display_data"
    }
   ],
   "source": [
    "plt.plot(reward_history)\n",
    "plt.show()\n",
    "plt.plot(steps_history)\n",
    "plt.show()"
   ]
  },
  {
   "cell_type": "markdown",
   "metadata": {},
   "source": [
    "# Creating a gif of the trained robot trying to reach the end of the corridor"
   ]
  },
  {
   "cell_type": "code",
   "execution_count": 20,
   "metadata": {},
   "outputs": [
    {
     "data": {
      "image/png": "[encoded data removed]",
      "text/plain": [
       "<Figure size 3000x3000 with 1 Axes>"
      ]
     },
     "metadata": {},
     "output_type": "display_data"
    }
   ],
   "source": [
    "corridor.reset_env()\n",
    "i = 0\n",
    "while not corridor.is_terminal():\n",
    "    time.sleep(0.1)\n",
    "    clear_output(wait=True)\n",
    "    corridor.plot_corridor()\n",
    "    plt.savefig(\n",
    "        f\"images/working-robot/working-{'0'*(3-len(str(i))) + str(i)}.jpg\",\n",
    "        bbox_inches=\"tight\",\n",
    "        pad_inches=0,\n",
    "        dpi=300,\n",
    "    )\n",
    "    plt.show()\n",
    "    state = corridor.get_state()\n",
    "    action = robot.best_action(state, corridor.get_allowed_actions(state))\n",
    "    corridor.update(action)\n",
    "    i += 1\n",
    "\n",
    "clear_output(wait=True)\n",
    "corridor.plot_corridor()\n",
    "plt.savefig(\n",
    "    f\"images/working-robot/working-{'0'*(3-len(str(i))) + str(i)}.jpg\",\n",
    "    bbox_inches=\"tight\",\n",
    "    pad_inches=0,\n",
    "    dpi=300,\n",
    ")\n",
    "plt.show()\n",
    "state = corridor.get_state()\n",
    "action = robot.best_action(state, corridor.get_allowed_actions(state))\n",
    "corridor.update(action)\n",
    "i += 1"
   ]
  },
  {
   "cell_type": "code",
   "execution_count": 21,
   "metadata": {},
   "outputs": [
    {
     "name": "stdout",
     "output_type": "stream",
     "text": [
      "images/working-robot/working-000.jpg\n",
      "108\n"
     ]
    }
   ],
   "source": [
    "import glob\n",
    "from PIL import Image\n",
    "\n",
    "images = sorted(glob.glob(r\"images/working-robot/*.jpg\"))\n",
    "print(images[0])\n",
    "images_array = []\n",
    "for image in images:\n",
    "    images_array.append(Image.open(image))\n",
    "\n",
    "print(len(images_array))"
   ]
  },
  {
   "cell_type": "code",
   "execution_count": 22,
   "metadata": {},
   "outputs": [
    {
     "data": {
      "text/plain": [
       "(-0.5, 6974.5, 473.5, -0.5)"
      ]
     },
     "execution_count": 22,
     "metadata": {},
     "output_type": "execute_result"
    },
    {
     "data": {
      "image/png": "[encoded data removed]",
      "text/plain": [
       "<Figure size 1000x300 with 1 Axes>"
      ]
     },
     "metadata": {},
     "output_type": "display_data"
    }
   ],
   "source": [
    "fig, ax = plt.subplots()\n",
    "fig.subplots_adjust(left=0, bottom=0, right=1, top=1, wspace=None, hspace=None)\n",
    "fig.set_size_inches(10, 3)\n",
    "im = ax.imshow(images_array[0], animated=True)\n",
    "plt.axis(\"off\")"
   ]
  },
  {
   "cell_type": "code",
   "execution_count": 23,
   "metadata": {},
   "outputs": [],
   "source": [
    "def update(i):\n",
    "    im.set_array(images_array[i])\n",
    "    return (im,)"
   ]
  },
  {
   "cell_type": "code",
   "execution_count": 24,
   "metadata": {},
   "outputs": [],
   "source": [
    "import matplotlib.animation as animation\n",
    "\n",
    "animation_fig = animation.FuncAnimation(\n",
    "    fig, update, frames=len(images_array), interval=100, blit=True, repeat_delay=100\n",
    ")"
   ]
  },
  {
   "cell_type": "code",
   "execution_count": 25,
   "metadata": {},
   "outputs": [],
   "source": [
    "animation_fig.save\n",
    "animation_fig.save(\"images/working-robot.gif\", writer=\"pillow\")"
   ]
  }
 ],
 "metadata": {
  "kernelspec": {
   "display_name": "torch",
   "language": "python",
   "name": "python3"
  },
  "language_info": {
   "codemirror_mode": {
    "name": "ipython",
    "version": 3
   },
   "file_extension": ".py",
   "mimetype": "text/x-python",
   "name": "python",
   "nbconvert_exporter": "python",
   "pygments_lexer": "ipython3",
   "version": "3.12.0"
  }
 },
 "nbformat": 4,
 "nbformat_minor": 2
}
